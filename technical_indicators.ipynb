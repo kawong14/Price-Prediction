{
 "cells": [
  {
   "cell_type": "code",
   "execution_count": 69,
   "metadata": {
    "collapsed": true
   },
   "outputs": [],
   "source": [
    "import pandas as pd, datetime, math\n"
   ]
  },
  {
   "cell_type": "code",
   "execution_count": 70,
   "metadata": {},
   "outputs": [],
   "source": [
    "nflx = pd.read_csv('C:/Users/kevin.wong/Downloads/nflx (11).csv')"
   ]
  },
  {
   "cell_type": "code",
   "execution_count": 71,
   "metadata": {},
   "outputs": [],
   "source": [
    "df=nflx"
   ]
  },
  {
   "cell_type": "code",
   "execution_count": 72,
   "metadata": {},
   "outputs": [
    {
     "data": {
      "text/html": [
       "<div>\n",
       "<style scoped>\n",
       "    .dataframe tbody tr th:only-of-type {\n",
       "        vertical-align: middle;\n",
       "    }\n",
       "\n",
       "    .dataframe tbody tr th {\n",
       "        vertical-align: top;\n",
       "    }\n",
       "\n",
       "    .dataframe thead th {\n",
       "        text-align: right;\n",
       "    }\n",
       "</style>\n",
       "<table border=\"1\" class=\"dataframe\">\n",
       "  <thead>\n",
       "    <tr style=\"text-align: right;\">\n",
       "      <th></th>\n",
       "      <th>Date</th>\n",
       "      <th>Open</th>\n",
       "      <th>High</th>\n",
       "      <th>Low</th>\n",
       "      <th>Close</th>\n",
       "      <th>Volume</th>\n",
       "    </tr>\n",
       "  </thead>\n",
       "  <tbody>\n",
       "    <tr>\n",
       "      <th>0</th>\n",
       "      <td>11/17/2017</td>\n",
       "      <td>195.74</td>\n",
       "      <td>195.95</td>\n",
       "      <td>192.65</td>\n",
       "      <td>193.20</td>\n",
       "      <td>3906333</td>\n",
       "    </tr>\n",
       "    <tr>\n",
       "      <th>1</th>\n",
       "      <td>11/16/2017</td>\n",
       "      <td>194.33</td>\n",
       "      <td>197.70</td>\n",
       "      <td>193.75</td>\n",
       "      <td>195.51</td>\n",
       "      <td>5678355</td>\n",
       "    </tr>\n",
       "    <tr>\n",
       "      <th>2</th>\n",
       "      <td>11/15/2017</td>\n",
       "      <td>194.54</td>\n",
       "      <td>195.42</td>\n",
       "      <td>191.53</td>\n",
       "      <td>192.12</td>\n",
       "      <td>4203072</td>\n",
       "    </tr>\n",
       "    <tr>\n",
       "      <th>3</th>\n",
       "      <td>11/14/2017</td>\n",
       "      <td>193.64</td>\n",
       "      <td>195.88</td>\n",
       "      <td>193.00</td>\n",
       "      <td>195.71</td>\n",
       "      <td>3450513</td>\n",
       "    </tr>\n",
       "    <tr>\n",
       "      <th>4</th>\n",
       "      <td>11/13/2017</td>\n",
       "      <td>191.12</td>\n",
       "      <td>196.05</td>\n",
       "      <td>191.00</td>\n",
       "      <td>195.08</td>\n",
       "      <td>4606951</td>\n",
       "    </tr>\n",
       "  </tbody>\n",
       "</table>\n",
       "</div>"
      ],
      "text/plain": [
       "         Date    Open    High     Low   Close   Volume\n",
       "0  11/17/2017  195.74  195.95  192.65  193.20  3906333\n",
       "1  11/16/2017  194.33  197.70  193.75  195.51  5678355\n",
       "2  11/15/2017  194.54  195.42  191.53  192.12  4203072\n",
       "3  11/14/2017  193.64  195.88  193.00  195.71  3450513\n",
       "4  11/13/2017  191.12  196.05  191.00  195.08  4606951"
      ]
     },
     "execution_count": 72,
     "metadata": {},
     "output_type": "execute_result"
    }
   ],
   "source": [
    "df.head()"
   ]
  },
  {
   "cell_type": "markdown",
   "metadata": {},
   "source": [
    "## Time Features"
   ]
  },
  {
   "cell_type": "code",
   "execution_count": 73,
   "metadata": {
    "collapsed": true
   },
   "outputs": [],
   "source": [
    "df['Date'] = pd.to_datetime(df['Date']).dt.strftime('%m/%d/%Y')"
   ]
  },
  {
   "cell_type": "code",
   "execution_count": 74,
   "metadata": {
    "collapsed": true
   },
   "outputs": [],
   "source": [
    "df.Date= pd.to_datetime(df.Date, errors='coerce')"
   ]
  },
  {
   "cell_type": "code",
   "execution_count": 75,
   "metadata": {
    "collapsed": true
   },
   "outputs": [],
   "source": [
    "def add_datepart(df):\n",
    "    df.date = pd.to_datetime(df.Date)\n",
    "    df[\"Year\"] = df.Date.dt.year\n",
    "    df[\"Month\"] = df.Date.dt.month\n",
    "    df[\"Week\"] = df.Date.dt.week\n",
    "    df[\"Day\"] = df.Date.dt.day"
   ]
  },
  {
   "cell_type": "code",
   "execution_count": 76,
   "metadata": {},
   "outputs": [
    {
     "name": "stderr",
     "output_type": "stream",
     "text": [
      "C:\\Users\\kevin.wong\\AppData\\Local\\Continuum\\anaconda3\\envs\\py27_keras1_theano\\lib\\site-packages\\ipykernel_launcher.py:2: UserWarning: Pandas doesn't allow columns to be created via a new attribute name - see https://pandas.pydata.org/pandas-docs/stable/indexing.html#attribute-access\n",
      "  \n"
     ]
    }
   ],
   "source": [
    "add_datepart(df)"
   ]
  },
  {
   "cell_type": "code",
   "execution_count": 77,
   "metadata": {
    "collapsed": true
   },
   "outputs": [],
   "source": [
    "df['DayOfWeek'] = df['Date'].dt.dayofweek + 1"
   ]
  },
  {
   "cell_type": "code",
   "execution_count": 78,
   "metadata": {},
   "outputs": [],
   "source": [
    "df=df.sort_values(by='Date')"
   ]
  },
  {
   "cell_type": "markdown",
   "metadata": {},
   "source": [
    "## Technical Indicators"
   ]
  },
  {
   "cell_type": "markdown",
   "metadata": {},
   "source": [
    "* MACD: Moving Average Convergence/Divergence oscillator (MACD), for momentum indicators\n",
    "* RSI: Oscillators help identify overbought and oversold markets\n",
    "* ADX indicator: helps determine whether a market is in a trending or a trading phase. It measures the degree of trend or direction in the market\n",
    "* Average True Range: measure of volatility\n",
    "* Exponential moving average"
   ]
  },
  {
   "cell_type": "code",
   "execution_count": 79,
   "metadata": {},
   "outputs": [
    {
     "data": {
      "text/html": [
       "<div>\n",
       "<style scoped>\n",
       "    .dataframe tbody tr th:only-of-type {\n",
       "        vertical-align: middle;\n",
       "    }\n",
       "\n",
       "    .dataframe tbody tr th {\n",
       "        vertical-align: top;\n",
       "    }\n",
       "\n",
       "    .dataframe thead th {\n",
       "        text-align: right;\n",
       "    }\n",
       "</style>\n",
       "<table border=\"1\" class=\"dataframe\">\n",
       "  <thead>\n",
       "    <tr style=\"text-align: right;\">\n",
       "      <th></th>\n",
       "      <th>Date</th>\n",
       "      <th>Open</th>\n",
       "      <th>High</th>\n",
       "      <th>Low</th>\n",
       "      <th>Close</th>\n",
       "      <th>Volume</th>\n",
       "      <th>Year</th>\n",
       "      <th>Month</th>\n",
       "      <th>Week</th>\n",
       "      <th>Day</th>\n",
       "      <th>DayOfWeek</th>\n",
       "    </tr>\n",
       "  </thead>\n",
       "  <tbody>\n",
       "    <tr>\n",
       "      <th>501</th>\n",
       "      <td>2015-11-23</td>\n",
       "      <td>124.30</td>\n",
       "      <td>126.20</td>\n",
       "      <td>121.66</td>\n",
       "      <td>125.03</td>\n",
       "      <td>15670283</td>\n",
       "      <td>2015</td>\n",
       "      <td>11</td>\n",
       "      <td>48</td>\n",
       "      <td>23</td>\n",
       "      <td>1</td>\n",
       "    </tr>\n",
       "    <tr>\n",
       "      <th>500</th>\n",
       "      <td>2015-11-24</td>\n",
       "      <td>123.97</td>\n",
       "      <td>124.66</td>\n",
       "      <td>120.03</td>\n",
       "      <td>123.31</td>\n",
       "      <td>18317565</td>\n",
       "      <td>2015</td>\n",
       "      <td>11</td>\n",
       "      <td>48</td>\n",
       "      <td>24</td>\n",
       "      <td>2</td>\n",
       "    </tr>\n",
       "    <tr>\n",
       "      <th>499</th>\n",
       "      <td>2015-11-25</td>\n",
       "      <td>124.23</td>\n",
       "      <td>125.20</td>\n",
       "      <td>122.36</td>\n",
       "      <td>124.16</td>\n",
       "      <td>10980677</td>\n",
       "      <td>2015</td>\n",
       "      <td>11</td>\n",
       "      <td>48</td>\n",
       "      <td>25</td>\n",
       "      <td>3</td>\n",
       "    </tr>\n",
       "    <tr>\n",
       "      <th>498</th>\n",
       "      <td>2015-11-27</td>\n",
       "      <td>123.85</td>\n",
       "      <td>126.39</td>\n",
       "      <td>123.59</td>\n",
       "      <td>125.44</td>\n",
       "      <td>6644280</td>\n",
       "      <td>2015</td>\n",
       "      <td>11</td>\n",
       "      <td>48</td>\n",
       "      <td>27</td>\n",
       "      <td>5</td>\n",
       "    </tr>\n",
       "    <tr>\n",
       "      <th>497</th>\n",
       "      <td>2015-11-30</td>\n",
       "      <td>126.03</td>\n",
       "      <td>126.60</td>\n",
       "      <td>122.89</td>\n",
       "      <td>123.33</td>\n",
       "      <td>13718932</td>\n",
       "      <td>2015</td>\n",
       "      <td>11</td>\n",
       "      <td>49</td>\n",
       "      <td>30</td>\n",
       "      <td>1</td>\n",
       "    </tr>\n",
       "  </tbody>\n",
       "</table>\n",
       "</div>"
      ],
      "text/plain": [
       "          Date    Open    High     Low   Close    Volume  Year  Month  Week  \\\n",
       "501 2015-11-23  124.30  126.20  121.66  125.03  15670283  2015     11    48   \n",
       "500 2015-11-24  123.97  124.66  120.03  123.31  18317565  2015     11    48   \n",
       "499 2015-11-25  124.23  125.20  122.36  124.16  10980677  2015     11    48   \n",
       "498 2015-11-27  123.85  126.39  123.59  125.44   6644280  2015     11    48   \n",
       "497 2015-11-30  126.03  126.60  122.89  123.33  13718932  2015     11    49   \n",
       "\n",
       "     Day  DayOfWeek  \n",
       "501   23          1  \n",
       "500   24          2  \n",
       "499   25          3  \n",
       "498   27          5  \n",
       "497   30          1  "
      ]
     },
     "execution_count": 79,
     "metadata": {},
     "output_type": "execute_result"
    }
   ],
   "source": [
    "df.head()"
   ]
  },
  {
   "cell_type": "code",
   "execution_count": 80,
   "metadata": {
    "collapsed": true
   },
   "outputs": [],
   "source": [
    "import talib"
   ]
  },
  {
   "cell_type": "code",
   "execution_count": 81,
   "metadata": {
    "collapsed": true
   },
   "outputs": [],
   "source": [
    "df[['macd', 'macdsignal', 'macdhist']] = pd.DataFrame.from_records(zip(*talib.MACD(df.Close.values, fastperiod=12, slowperiod=26, signalperiod=9)))"
   ]
  },
  {
   "cell_type": "code",
   "execution_count": 82,
   "metadata": {
    "collapsed": true
   },
   "outputs": [],
   "source": [
    "df['RSI'] = talib.RSI(df.Close.values, timeperiod=14)"
   ]
  },
  {
   "cell_type": "code",
   "execution_count": 83,
   "metadata": {
    "collapsed": true
   },
   "outputs": [],
   "source": [
    "df['ADX'] = talib.ADX(df.High.values, df.Low.values, df.Close.values, timeperiod=14)\n"
   ]
  },
  {
   "cell_type": "code",
   "execution_count": 84,
   "metadata": {},
   "outputs": [],
   "source": [
    "df['ATR'] = talib.ATR(df.High.values, df.Low.values, df.Close.values, timeperiod=14)\n"
   ]
  },
  {
   "cell_type": "code",
   "execution_count": 85,
   "metadata": {
    "collapsed": true
   },
   "outputs": [],
   "source": [
    "df['EMA_30'] = talib.EMA(df.Close.values, timeperiod=30)\n"
   ]
  },
  {
   "cell_type": "code",
   "execution_count": 88,
   "metadata": {
    "collapsed": true
   },
   "outputs": [],
   "source": [
    "df.to_csv('C:/Users/kevin.wong/Downloads/nflx_technicals.csv')\n"
   ]
  },
  {
   "cell_type": "code",
   "execution_count": null,
   "metadata": {
    "collapsed": true
   },
   "outputs": [],
   "source": []
  }
 ],
 "metadata": {
  "kernelspec": {
   "display_name": "py27_keras1_theano",
   "language": "python",
   "name": "py27_keras1_theano"
  },
  "language_info": {
   "codemirror_mode": {
    "name": "ipython",
    "version": 2
   },
   "file_extension": ".py",
   "mimetype": "text/x-python",
   "name": "python",
   "nbconvert_exporter": "python",
   "pygments_lexer": "ipython2",
   "version": "2.7.14"
  }
 },
 "nbformat": 4,
 "nbformat_minor": 2
}
