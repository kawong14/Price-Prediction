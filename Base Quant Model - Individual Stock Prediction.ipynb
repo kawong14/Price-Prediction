{
 "cells": [
  {
   "cell_type": "markdown",
   "metadata": {
    "heading_collapsed": true
   },
   "source": [
    "## Setup"
   ]
  },
  {
   "cell_type": "code",
   "execution_count": 1,
   "metadata": {
    "hidden": true
   },
   "outputs": [],
   "source": [
    "%matplotlib inline"
   ]
  },
  {
   "cell_type": "code",
   "execution_count": 2,
   "metadata": {
    "hidden": true
   },
   "outputs": [
    {
     "name": "stderr",
     "output_type": "stream",
     "text": [
      "Using TensorFlow backend.\n",
      "/usr/local/lib/python3.6/dist-packages/sklearn/cross_validation.py:41: DeprecationWarning: This module was deprecated in version 0.18 in favor of the model_selection module into which all the refactored classes and functions are moved. Also note that the interface of the new CV iterators are different from that of this module. This module will be removed in 0.20.\n",
      "  \"This module will be removed in 0.20.\", DeprecationWarning)\n"
     ]
    }
   ],
   "source": [
    "import math, keras, datetime, pandas as pd, numpy as np, keras.backend as K\n",
    "import matplotlib.pyplot as plt, xgboost as xgb, operator, random, pickle"
   ]
  },
  {
   "cell_type": "code",
   "execution_count": 3,
   "metadata": {
    "hidden": true
   },
   "outputs": [],
   "source": [
    "from kevin_utils2 import *"
   ]
  },
  {
   "cell_type": "code",
   "execution_count": 4,
   "metadata": {
    "hidden": true
   },
   "outputs": [],
   "source": [
    "np.set_printoptions(threshold=50, edgeitems=20)"
   ]
  },
  {
   "cell_type": "code",
   "execution_count": 5,
   "metadata": {
    "hidden": true
   },
   "outputs": [],
   "source": [
    "limit_mem()"
   ]
  },
  {
   "cell_type": "code",
   "execution_count": 6,
   "metadata": {
    "hidden": true
   },
   "outputs": [],
   "source": [
    "from isoweek import Week\n",
    "from pandas_summary import DataFrameSummary"
   ]
  },
  {
   "cell_type": "code",
   "execution_count": 7,
   "metadata": {
    "hidden": true
   },
   "outputs": [],
   "source": [
    "df = pd.read_csv('nflx_technicals.csv', index_col=0)\n",
    "df[\"Date\"] = pd.to_datetime(df.Date)"
   ]
  },
  {
   "cell_type": "code",
   "execution_count": 8,
   "metadata": {
    "hidden": true
   },
   "outputs": [
    {
     "name": "stdout",
     "output_type": "stream",
     "text": [
      "<class 'pandas.core.frame.DataFrame'>\n",
      "Int64Index: 502 entries, 501 to 0\n",
      "Data columns (total 18 columns):\n",
      "Date          502 non-null datetime64[ns]\n",
      "Open          502 non-null float64\n",
      "High          502 non-null float64\n",
      "Low           502 non-null float64\n",
      "Close         502 non-null float64\n",
      "Volume        502 non-null int64\n",
      "Year          502 non-null int64\n",
      "Month         502 non-null int64\n",
      "Week          502 non-null int64\n",
      "Day           502 non-null int64\n",
      "DayOfWeek     502 non-null int64\n",
      "macd          469 non-null float64\n",
      "macdsignal    469 non-null float64\n",
      "macdhist      469 non-null float64\n",
      "RSI           488 non-null float64\n",
      "ADX           475 non-null float64\n",
      "ATR           488 non-null float64\n",
      "EMA_30        473 non-null float64\n",
      "dtypes: datetime64[ns](1), float64(11), int64(6)\n",
      "memory usage: 74.5 KB\n"
     ]
    }
   ],
   "source": [
    "df.info()"
   ]
  },
  {
   "cell_type": "code",
   "execution_count": 9,
   "metadata": {
    "hidden": true,
    "scrolled": true
   },
   "outputs": [
    {
     "data": {
      "text/html": [
       "<div>\n",
       "<style scoped>\n",
       "    .dataframe tbody tr th:only-of-type {\n",
       "        vertical-align: middle;\n",
       "    }\n",
       "\n",
       "    .dataframe tbody tr th {\n",
       "        vertical-align: top;\n",
       "    }\n",
       "\n",
       "    .dataframe thead th {\n",
       "        text-align: right;\n",
       "    }\n",
       "</style>\n",
       "<table border=\"1\" class=\"dataframe\">\n",
       "  <thead>\n",
       "    <tr style=\"text-align: right;\">\n",
       "      <th></th>\n",
       "      <th>Date</th>\n",
       "      <th>Open</th>\n",
       "      <th>High</th>\n",
       "      <th>Low</th>\n",
       "      <th>Close</th>\n",
       "      <th>Volume</th>\n",
       "      <th>Year</th>\n",
       "      <th>Month</th>\n",
       "      <th>Week</th>\n",
       "      <th>Day</th>\n",
       "      <th>DayOfWeek</th>\n",
       "      <th>macd</th>\n",
       "      <th>macdsignal</th>\n",
       "      <th>macdhist</th>\n",
       "      <th>RSI</th>\n",
       "      <th>ADX</th>\n",
       "      <th>ATR</th>\n",
       "      <th>EMA_30</th>\n",
       "    </tr>\n",
       "  </thead>\n",
       "  <tbody>\n",
       "    <tr>\n",
       "      <th>501</th>\n",
       "      <td>2015-11-23</td>\n",
       "      <td>124.30</td>\n",
       "      <td>126.20</td>\n",
       "      <td>121.66</td>\n",
       "      <td>125.03</td>\n",
       "      <td>15670283</td>\n",
       "      <td>2015</td>\n",
       "      <td>11</td>\n",
       "      <td>48</td>\n",
       "      <td>23</td>\n",
       "      <td>1</td>\n",
       "      <td>0.597221</td>\n",
       "      <td>1.477072</td>\n",
       "      <td>-0.879851</td>\n",
       "      <td>NaN</td>\n",
       "      <td>NaN</td>\n",
       "      <td>NaN</td>\n",
       "      <td>NaN</td>\n",
       "    </tr>\n",
       "    <tr>\n",
       "      <th>500</th>\n",
       "      <td>2015-11-24</td>\n",
       "      <td>123.97</td>\n",
       "      <td>124.66</td>\n",
       "      <td>120.03</td>\n",
       "      <td>123.31</td>\n",
       "      <td>18317565</td>\n",
       "      <td>2015</td>\n",
       "      <td>11</td>\n",
       "      <td>48</td>\n",
       "      <td>24</td>\n",
       "      <td>2</td>\n",
       "      <td>0.826057</td>\n",
       "      <td>1.697035</td>\n",
       "      <td>-0.870978</td>\n",
       "      <td>NaN</td>\n",
       "      <td>NaN</td>\n",
       "      <td>NaN</td>\n",
       "      <td>NaN</td>\n",
       "    </tr>\n",
       "    <tr>\n",
       "      <th>499</th>\n",
       "      <td>2015-11-25</td>\n",
       "      <td>124.23</td>\n",
       "      <td>125.20</td>\n",
       "      <td>122.36</td>\n",
       "      <td>124.16</td>\n",
       "      <td>10980677</td>\n",
       "      <td>2015</td>\n",
       "      <td>11</td>\n",
       "      <td>48</td>\n",
       "      <td>25</td>\n",
       "      <td>3</td>\n",
       "      <td>0.870919</td>\n",
       "      <td>1.914779</td>\n",
       "      <td>-1.043860</td>\n",
       "      <td>NaN</td>\n",
       "      <td>NaN</td>\n",
       "      <td>NaN</td>\n",
       "      <td>NaN</td>\n",
       "    </tr>\n",
       "    <tr>\n",
       "      <th>498</th>\n",
       "      <td>2015-11-27</td>\n",
       "      <td>123.85</td>\n",
       "      <td>126.39</td>\n",
       "      <td>123.59</td>\n",
       "      <td>125.44</td>\n",
       "      <td>6644280</td>\n",
       "      <td>2015</td>\n",
       "      <td>11</td>\n",
       "      <td>48</td>\n",
       "      <td>27</td>\n",
       "      <td>5</td>\n",
       "      <td>1.260675</td>\n",
       "      <td>2.175744</td>\n",
       "      <td>-0.915069</td>\n",
       "      <td>NaN</td>\n",
       "      <td>NaN</td>\n",
       "      <td>NaN</td>\n",
       "      <td>NaN</td>\n",
       "    </tr>\n",
       "    <tr>\n",
       "      <th>497</th>\n",
       "      <td>2015-11-30</td>\n",
       "      <td>126.03</td>\n",
       "      <td>126.60</td>\n",
       "      <td>122.89</td>\n",
       "      <td>123.33</td>\n",
       "      <td>13718932</td>\n",
       "      <td>2015</td>\n",
       "      <td>11</td>\n",
       "      <td>49</td>\n",
       "      <td>30</td>\n",
       "      <td>1</td>\n",
       "      <td>1.374282</td>\n",
       "      <td>2.404512</td>\n",
       "      <td>-1.030230</td>\n",
       "      <td>NaN</td>\n",
       "      <td>NaN</td>\n",
       "      <td>NaN</td>\n",
       "      <td>NaN</td>\n",
       "    </tr>\n",
       "  </tbody>\n",
       "</table>\n",
       "</div>"
      ],
      "text/plain": [
       "          Date    Open    High     Low   Close    Volume  Year  Month  Week  \\\n",
       "501 2015-11-23  124.30  126.20  121.66  125.03  15670283  2015     11    48   \n",
       "500 2015-11-24  123.97  124.66  120.03  123.31  18317565  2015     11    48   \n",
       "499 2015-11-25  124.23  125.20  122.36  124.16  10980677  2015     11    48   \n",
       "498 2015-11-27  123.85  126.39  123.59  125.44   6644280  2015     11    48   \n",
       "497 2015-11-30  126.03  126.60  122.89  123.33  13718932  2015     11    49   \n",
       "\n",
       "     Day  DayOfWeek      macd  macdsignal  macdhist  RSI  ADX  ATR  EMA_30  \n",
       "501   23          1  0.597221    1.477072 -0.879851  NaN  NaN  NaN     NaN  \n",
       "500   24          2  0.826057    1.697035 -0.870978  NaN  NaN  NaN     NaN  \n",
       "499   25          3  0.870919    1.914779 -1.043860  NaN  NaN  NaN     NaN  \n",
       "498   27          5  1.260675    2.175744 -0.915069  NaN  NaN  NaN     NaN  \n",
       "497   30          1  1.374282    2.404512 -1.030230  NaN  NaN  NaN     NaN  "
      ]
     },
     "execution_count": 9,
     "metadata": {},
     "output_type": "execute_result"
    }
   ],
   "source": [
    "df.head()"
   ]
  },
  {
   "cell_type": "markdown",
   "metadata": {
    "heading_collapsed": true
   },
   "source": [
    "## Shift columns based on the number of days to predict"
   ]
  },
  {
   "cell_type": "code",
   "execution_count": 10,
   "metadata": {
    "hidden": true
   },
   "outputs": [],
   "source": [
    "mask = ~(df.columns.isin(['Date','Close','Year','Month','Week','Day','DayOfWeek']))\n",
    "\n",
    "cols_to_shift = df.columns[mask]\n",
    "\n",
    "df[cols_to_shift] = df.loc[:,mask].shift(-7)"
   ]
  },
  {
   "cell_type": "code",
   "execution_count": 11,
   "metadata": {
    "hidden": true
   },
   "outputs": [],
   "source": [
    "df1=df[:-7]"
   ]
  },
  {
   "cell_type": "code",
   "execution_count": 12,
   "metadata": {
    "hidden": true
   },
   "outputs": [
    {
     "data": {
      "text/html": [
       "<div>\n",
       "<style scoped>\n",
       "    .dataframe tbody tr th:only-of-type {\n",
       "        vertical-align: middle;\n",
       "    }\n",
       "\n",
       "    .dataframe tbody tr th {\n",
       "        vertical-align: top;\n",
       "    }\n",
       "\n",
       "    .dataframe thead th {\n",
       "        text-align: right;\n",
       "    }\n",
       "</style>\n",
       "<table border=\"1\" class=\"dataframe\">\n",
       "  <thead>\n",
       "    <tr style=\"text-align: right;\">\n",
       "      <th></th>\n",
       "      <th>Date</th>\n",
       "      <th>Open</th>\n",
       "      <th>High</th>\n",
       "      <th>Low</th>\n",
       "      <th>Close</th>\n",
       "      <th>Volume</th>\n",
       "      <th>Year</th>\n",
       "      <th>Month</th>\n",
       "      <th>Week</th>\n",
       "      <th>Day</th>\n",
       "      <th>DayOfWeek</th>\n",
       "      <th>macd</th>\n",
       "      <th>macdsignal</th>\n",
       "      <th>macdhist</th>\n",
       "      <th>RSI</th>\n",
       "      <th>ADX</th>\n",
       "      <th>ATR</th>\n",
       "      <th>EMA_30</th>\n",
       "    </tr>\n",
       "  </thead>\n",
       "  <tbody>\n",
       "    <tr>\n",
       "      <th>501</th>\n",
       "      <td>2015-11-23</td>\n",
       "      <td>129.62</td>\n",
       "      <td>132.20</td>\n",
       "      <td>126.39</td>\n",
       "      <td>125.03</td>\n",
       "      <td>26647260.0</td>\n",
       "      <td>2015</td>\n",
       "      <td>11</td>\n",
       "      <td>48</td>\n",
       "      <td>23</td>\n",
       "      <td>1</td>\n",
       "      <td>2.548631</td>\n",
       "      <td>3.147483</td>\n",
       "      <td>-0.598852</td>\n",
       "      <td>NaN</td>\n",
       "      <td>NaN</td>\n",
       "      <td>NaN</td>\n",
       "      <td>NaN</td>\n",
       "    </tr>\n",
       "    <tr>\n",
       "      <th>500</th>\n",
       "      <td>2015-11-24</td>\n",
       "      <td>127.00</td>\n",
       "      <td>130.99</td>\n",
       "      <td>125.75</td>\n",
       "      <td>123.31</td>\n",
       "      <td>20250411.0</td>\n",
       "      <td>2015</td>\n",
       "      <td>11</td>\n",
       "      <td>48</td>\n",
       "      <td>24</td>\n",
       "      <td>2</td>\n",
       "      <td>2.833599</td>\n",
       "      <td>3.297196</td>\n",
       "      <td>-0.463597</td>\n",
       "      <td>NaN</td>\n",
       "      <td>NaN</td>\n",
       "      <td>NaN</td>\n",
       "      <td>NaN</td>\n",
       "    </tr>\n",
       "    <tr>\n",
       "      <th>499</th>\n",
       "      <td>2015-11-25</td>\n",
       "      <td>131.65</td>\n",
       "      <td>133.27</td>\n",
       "      <td>122.75</td>\n",
       "      <td>124.16</td>\n",
       "      <td>23351610.0</td>\n",
       "      <td>2015</td>\n",
       "      <td>11</td>\n",
       "      <td>48</td>\n",
       "      <td>25</td>\n",
       "      <td>3</td>\n",
       "      <td>3.212106</td>\n",
       "      <td>3.413095</td>\n",
       "      <td>-0.200989</td>\n",
       "      <td>NaN</td>\n",
       "      <td>NaN</td>\n",
       "      <td>NaN</td>\n",
       "      <td>NaN</td>\n",
       "    </tr>\n",
       "    <tr>\n",
       "      <th>498</th>\n",
       "      <td>2015-11-27</td>\n",
       "      <td>121.51</td>\n",
       "      <td>128.24</td>\n",
       "      <td>121.10</td>\n",
       "      <td>125.44</td>\n",
       "      <td>18591147.0</td>\n",
       "      <td>2015</td>\n",
       "      <td>11</td>\n",
       "      <td>48</td>\n",
       "      <td>27</td>\n",
       "      <td>5</td>\n",
       "      <td>3.216787</td>\n",
       "      <td>3.463342</td>\n",
       "      <td>-0.246555</td>\n",
       "      <td>NaN</td>\n",
       "      <td>NaN</td>\n",
       "      <td>NaN</td>\n",
       "      <td>NaN</td>\n",
       "    </tr>\n",
       "    <tr>\n",
       "      <th>497</th>\n",
       "      <td>2015-11-30</td>\n",
       "      <td>127.70</td>\n",
       "      <td>128.78</td>\n",
       "      <td>122.33</td>\n",
       "      <td>123.33</td>\n",
       "      <td>17788797.0</td>\n",
       "      <td>2015</td>\n",
       "      <td>11</td>\n",
       "      <td>49</td>\n",
       "      <td>30</td>\n",
       "      <td>1</td>\n",
       "      <td>3.188192</td>\n",
       "      <td>3.524981</td>\n",
       "      <td>-0.336789</td>\n",
       "      <td>NaN</td>\n",
       "      <td>NaN</td>\n",
       "      <td>NaN</td>\n",
       "      <td>NaN</td>\n",
       "    </tr>\n",
       "  </tbody>\n",
       "</table>\n",
       "</div>"
      ],
      "text/plain": [
       "          Date    Open    High     Low   Close      Volume  Year  Month  Week  \\\n",
       "501 2015-11-23  129.62  132.20  126.39  125.03  26647260.0  2015     11    48   \n",
       "500 2015-11-24  127.00  130.99  125.75  123.31  20250411.0  2015     11    48   \n",
       "499 2015-11-25  131.65  133.27  122.75  124.16  23351610.0  2015     11    48   \n",
       "498 2015-11-27  121.51  128.24  121.10  125.44  18591147.0  2015     11    48   \n",
       "497 2015-11-30  127.70  128.78  122.33  123.33  17788797.0  2015     11    49   \n",
       "\n",
       "     Day  DayOfWeek      macd  macdsignal  macdhist  RSI  ADX  ATR  EMA_30  \n",
       "501   23          1  2.548631    3.147483 -0.598852  NaN  NaN  NaN     NaN  \n",
       "500   24          2  2.833599    3.297196 -0.463597  NaN  NaN  NaN     NaN  \n",
       "499   25          3  3.212106    3.413095 -0.200989  NaN  NaN  NaN     NaN  \n",
       "498   27          5  3.216787    3.463342 -0.246555  NaN  NaN  NaN     NaN  \n",
       "497   30          1  3.188192    3.524981 -0.336789  NaN  NaN  NaN     NaN  "
      ]
     },
     "execution_count": 12,
     "metadata": {},
     "output_type": "execute_result"
    }
   ],
   "source": [
    "df1.head()"
   ]
  },
  {
   "cell_type": "code",
   "execution_count": 13,
   "metadata": {
    "hidden": true
   },
   "outputs": [
    {
     "name": "stdout",
     "output_type": "stream",
     "text": [
      "<class 'pandas.core.frame.DataFrame'>\n",
      "Int64Index: 495 entries, 501 to 7\n",
      "Data columns (total 18 columns):\n",
      "Date          495 non-null datetime64[ns]\n",
      "Open          495 non-null float64\n",
      "High          495 non-null float64\n",
      "Low           495 non-null float64\n",
      "Close         495 non-null float64\n",
      "Volume        495 non-null float64\n",
      "Year          495 non-null int64\n",
      "Month         495 non-null int64\n",
      "Week          495 non-null int64\n",
      "Day           495 non-null int64\n",
      "DayOfWeek     495 non-null int64\n",
      "macd          462 non-null float64\n",
      "macdsignal    462 non-null float64\n",
      "macdhist      462 non-null float64\n",
      "RSI           488 non-null float64\n",
      "ADX           475 non-null float64\n",
      "ATR           488 non-null float64\n",
      "EMA_30        473 non-null float64\n",
      "dtypes: datetime64[ns](1), float64(12), int64(5)\n",
      "memory usage: 73.5 KB\n"
     ]
    }
   ],
   "source": [
    "df1.info()"
   ]
  },
  {
   "cell_type": "markdown",
   "metadata": {
    "heading_collapsed": true
   },
   "source": [
    "## XGBoost Data Prep"
   ]
  },
  {
   "cell_type": "code",
   "execution_count": 14,
   "metadata": {
    "hidden": true
   },
   "outputs": [],
   "source": [
    "joined=df1"
   ]
  },
  {
   "cell_type": "code",
   "execution_count": 15,
   "metadata": {
    "hidden": true
   },
   "outputs": [],
   "source": [
    "from sklearn_pandas import DataFrameMapper\n",
    "from sklearn.preprocessing import LabelEncoder, Imputer, StandardScaler"
   ]
  },
  {
   "cell_type": "code",
   "execution_count": 16,
   "metadata": {
    "hidden": true
   },
   "outputs": [],
   "source": [
    "contin_vars = ['High','Low', 'Volume',\n",
    "   'Open','EMA_30','RSI','macd','macdsignal','macdhist','ADX','ATR','DayOfWeek','Month','Day','Week','Year']"
   ]
  },
  {
   "cell_type": "code",
   "execution_count": 17,
   "metadata": {
    "hidden": true
   },
   "outputs": [
    {
     "name": "stderr",
     "output_type": "stream",
     "text": [
      "/usr/local/lib/python3.6/dist-packages/pandas/core/indexing.py:537: SettingWithCopyWarning: \n",
      "A value is trying to be set on a copy of a slice from a DataFrame.\n",
      "Try using .loc[row_indexer,col_indexer] = value instead\n",
      "\n",
      "See the caveats in the documentation: http://pandas.pydata.org/pandas-docs/stable/indexing.html#indexing-view-versus-copy\n",
      "  self.obj[item] = s\n"
     ]
    }
   ],
   "source": [
    "for v in contin_vars: joined.loc[joined[v].isnull(), v] = 0"
   ]
  },
  {
   "cell_type": "code",
   "execution_count": 18,
   "metadata": {
    "hidden": true
   },
   "outputs": [],
   "source": [
    "contin_maps = [([o], StandardScaler()) for o in contin_vars]"
   ]
  },
  {
   "cell_type": "code",
   "execution_count": 19,
   "metadata": {
    "hidden": true
   },
   "outputs": [
    {
     "name": "stderr",
     "output_type": "stream",
     "text": [
      "/usr/local/lib/python3.6/dist-packages/sklearn/utils/validation.py:475: DataConversionWarning: Data with input dtype int64 was converted to float64 by StandardScaler.\n",
      "  warnings.warn(msg, DataConversionWarning)\n"
     ]
    },
    {
     "data": {
      "text/plain": [
       "16"
      ]
     },
     "execution_count": 19,
     "metadata": {},
     "output_type": "execute_result"
    }
   ],
   "source": [
    "contin_mapper = DataFrameMapper(contin_maps)\n",
    "contin_map_fit = contin_mapper.fit(joined)\n",
    "contin_cols = len(contin_map_fit.features)\n",
    "contin_cols"
   ]
  },
  {
   "cell_type": "code",
   "execution_count": 20,
   "metadata": {
    "hidden": true
   },
   "outputs": [],
   "source": [
    "n = len(joined)"
   ]
  },
  {
   "cell_type": "code",
   "execution_count": 21,
   "metadata": {
    "hidden": true
   },
   "outputs": [],
   "source": [
    "samp_size = n\n",
    "np.random.seed(42)"
   ]
  },
  {
   "cell_type": "code",
   "execution_count": 22,
   "metadata": {
    "hidden": true
   },
   "outputs": [],
   "source": [
    "idxs = sorted(np.random.choice(n, samp_size, replace=False))"
   ]
  },
  {
   "cell_type": "code",
   "execution_count": 23,
   "metadata": {
    "hidden": true
   },
   "outputs": [],
   "source": [
    "joined_samp = joined.iloc[idxs].set_index(['Date'])\n",
    "joined_samp = joined.set_index(\"Date\")"
   ]
  },
  {
   "cell_type": "code",
   "execution_count": 24,
   "metadata": {
    "hidden": true
   },
   "outputs": [
    {
     "data": {
      "text/html": [
       "<div>\n",
       "<style scoped>\n",
       "    .dataframe tbody tr th:only-of-type {\n",
       "        vertical-align: middle;\n",
       "    }\n",
       "\n",
       "    .dataframe tbody tr th {\n",
       "        vertical-align: top;\n",
       "    }\n",
       "\n",
       "    .dataframe thead th {\n",
       "        text-align: right;\n",
       "    }\n",
       "</style>\n",
       "<table border=\"1\" class=\"dataframe\">\n",
       "  <thead>\n",
       "    <tr style=\"text-align: right;\">\n",
       "      <th></th>\n",
       "      <th>Open</th>\n",
       "      <th>High</th>\n",
       "      <th>Low</th>\n",
       "      <th>Close</th>\n",
       "      <th>Volume</th>\n",
       "      <th>Year</th>\n",
       "      <th>Month</th>\n",
       "      <th>Week</th>\n",
       "      <th>Day</th>\n",
       "      <th>DayOfWeek</th>\n",
       "      <th>macd</th>\n",
       "      <th>macdsignal</th>\n",
       "      <th>macdhist</th>\n",
       "      <th>RSI</th>\n",
       "      <th>ADX</th>\n",
       "      <th>ATR</th>\n",
       "      <th>EMA_30</th>\n",
       "    </tr>\n",
       "    <tr>\n",
       "      <th>Date</th>\n",
       "      <th></th>\n",
       "      <th></th>\n",
       "      <th></th>\n",
       "      <th></th>\n",
       "      <th></th>\n",
       "      <th></th>\n",
       "      <th></th>\n",
       "      <th></th>\n",
       "      <th></th>\n",
       "      <th></th>\n",
       "      <th></th>\n",
       "      <th></th>\n",
       "      <th></th>\n",
       "      <th></th>\n",
       "      <th></th>\n",
       "      <th></th>\n",
       "      <th></th>\n",
       "    </tr>\n",
       "  </thead>\n",
       "  <tbody>\n",
       "    <tr>\n",
       "      <th>2015-11-23</th>\n",
       "      <td>129.62</td>\n",
       "      <td>132.20</td>\n",
       "      <td>126.39</td>\n",
       "      <td>125.03</td>\n",
       "      <td>26647260.0</td>\n",
       "      <td>2015</td>\n",
       "      <td>11</td>\n",
       "      <td>48</td>\n",
       "      <td>23</td>\n",
       "      <td>1</td>\n",
       "      <td>2.548631</td>\n",
       "      <td>3.147483</td>\n",
       "      <td>-0.598852</td>\n",
       "      <td>0.0</td>\n",
       "      <td>0.0</td>\n",
       "      <td>0.0</td>\n",
       "      <td>0.0</td>\n",
       "    </tr>\n",
       "    <tr>\n",
       "      <th>2015-11-24</th>\n",
       "      <td>127.00</td>\n",
       "      <td>130.99</td>\n",
       "      <td>125.75</td>\n",
       "      <td>123.31</td>\n",
       "      <td>20250411.0</td>\n",
       "      <td>2015</td>\n",
       "      <td>11</td>\n",
       "      <td>48</td>\n",
       "      <td>24</td>\n",
       "      <td>2</td>\n",
       "      <td>2.833599</td>\n",
       "      <td>3.297196</td>\n",
       "      <td>-0.463597</td>\n",
       "      <td>0.0</td>\n",
       "      <td>0.0</td>\n",
       "      <td>0.0</td>\n",
       "      <td>0.0</td>\n",
       "    </tr>\n",
       "    <tr>\n",
       "      <th>2015-11-25</th>\n",
       "      <td>131.65</td>\n",
       "      <td>133.27</td>\n",
       "      <td>122.75</td>\n",
       "      <td>124.16</td>\n",
       "      <td>23351610.0</td>\n",
       "      <td>2015</td>\n",
       "      <td>11</td>\n",
       "      <td>48</td>\n",
       "      <td>25</td>\n",
       "      <td>3</td>\n",
       "      <td>3.212106</td>\n",
       "      <td>3.413095</td>\n",
       "      <td>-0.200989</td>\n",
       "      <td>0.0</td>\n",
       "      <td>0.0</td>\n",
       "      <td>0.0</td>\n",
       "      <td>0.0</td>\n",
       "    </tr>\n",
       "    <tr>\n",
       "      <th>2015-11-27</th>\n",
       "      <td>121.51</td>\n",
       "      <td>128.24</td>\n",
       "      <td>121.10</td>\n",
       "      <td>125.44</td>\n",
       "      <td>18591147.0</td>\n",
       "      <td>2015</td>\n",
       "      <td>11</td>\n",
       "      <td>48</td>\n",
       "      <td>27</td>\n",
       "      <td>5</td>\n",
       "      <td>3.216787</td>\n",
       "      <td>3.463342</td>\n",
       "      <td>-0.246555</td>\n",
       "      <td>0.0</td>\n",
       "      <td>0.0</td>\n",
       "      <td>0.0</td>\n",
       "      <td>0.0</td>\n",
       "    </tr>\n",
       "    <tr>\n",
       "      <th>2015-11-30</th>\n",
       "      <td>127.70</td>\n",
       "      <td>128.78</td>\n",
       "      <td>122.33</td>\n",
       "      <td>123.33</td>\n",
       "      <td>17788797.0</td>\n",
       "      <td>2015</td>\n",
       "      <td>11</td>\n",
       "      <td>49</td>\n",
       "      <td>30</td>\n",
       "      <td>1</td>\n",
       "      <td>3.188192</td>\n",
       "      <td>3.524981</td>\n",
       "      <td>-0.336789</td>\n",
       "      <td>0.0</td>\n",
       "      <td>0.0</td>\n",
       "      <td>0.0</td>\n",
       "      <td>0.0</td>\n",
       "    </tr>\n",
       "  </tbody>\n",
       "</table>\n",
       "</div>"
      ],
      "text/plain": [
       "              Open    High     Low   Close      Volume  Year  Month  Week  \\\n",
       "Date                                                                        \n",
       "2015-11-23  129.62  132.20  126.39  125.03  26647260.0  2015     11    48   \n",
       "2015-11-24  127.00  130.99  125.75  123.31  20250411.0  2015     11    48   \n",
       "2015-11-25  131.65  133.27  122.75  124.16  23351610.0  2015     11    48   \n",
       "2015-11-27  121.51  128.24  121.10  125.44  18591147.0  2015     11    48   \n",
       "2015-11-30  127.70  128.78  122.33  123.33  17788797.0  2015     11    49   \n",
       "\n",
       "            Day  DayOfWeek      macd  macdsignal  macdhist  RSI  ADX  ATR  \\\n",
       "Date                                                                        \n",
       "2015-11-23   23          1  2.548631    3.147483 -0.598852  0.0  0.0  0.0   \n",
       "2015-11-24   24          2  2.833599    3.297196 -0.463597  0.0  0.0  0.0   \n",
       "2015-11-25   25          3  3.212106    3.413095 -0.200989  0.0  0.0  0.0   \n",
       "2015-11-27   27          5  3.216787    3.463342 -0.246555  0.0  0.0  0.0   \n",
       "2015-11-30   30          1  3.188192    3.524981 -0.336789  0.0  0.0  0.0   \n",
       "\n",
       "            EMA_30  \n",
       "Date                \n",
       "2015-11-23     0.0  \n",
       "2015-11-24     0.0  \n",
       "2015-11-25     0.0  \n",
       "2015-11-27     0.0  \n",
       "2015-11-30     0.0  "
      ]
     },
     "execution_count": 24,
     "metadata": {},
     "output_type": "execute_result"
    }
   ],
   "source": [
    "joined_samp.head()"
   ]
  },
  {
   "cell_type": "code",
   "execution_count": 25,
   "metadata": {
    "hidden": true
   },
   "outputs": [],
   "source": [
    "train_ratio = 0.8\n",
    "train_size = int(samp_size * train_ratio)"
   ]
  },
  {
   "cell_type": "code",
   "execution_count": 26,
   "metadata": {
    "hidden": true
   },
   "outputs": [
    {
     "data": {
      "text/plain": [
       "(396, 99)"
      ]
     },
     "execution_count": 26,
     "metadata": {},
     "output_type": "execute_result"
    }
   ],
   "source": [
    "joined_train = joined_samp[:train_size]\n",
    "joined_valid = joined_samp[train_size:]\n",
    "len(joined_train),len(joined_valid)"
   ]
  },
  {
   "cell_type": "code",
   "execution_count": 27,
   "metadata": {
    "hidden": true
   },
   "outputs": [],
   "source": [
    "def contin_preproc(dat):\n",
    "    return contin_map_fit.transform(dat).astype(np.float32)"
   ]
  },
  {
   "cell_type": "code",
   "execution_count": 28,
   "metadata": {
    "hidden": true
   },
   "outputs": [],
   "source": [
    "#joined_valid.drop('Close',axis=1,inplace=True)"
   ]
  },
  {
   "cell_type": "code",
   "execution_count": 29,
   "metadata": {
    "hidden": true,
    "scrolled": false
   },
   "outputs": [
    {
     "data": {
      "text/html": [
       "<div>\n",
       "<style scoped>\n",
       "    .dataframe tbody tr th:only-of-type {\n",
       "        vertical-align: middle;\n",
       "    }\n",
       "\n",
       "    .dataframe tbody tr th {\n",
       "        vertical-align: top;\n",
       "    }\n",
       "\n",
       "    .dataframe thead th {\n",
       "        text-align: right;\n",
       "    }\n",
       "</style>\n",
       "<table border=\"1\" class=\"dataframe\">\n",
       "  <thead>\n",
       "    <tr style=\"text-align: right;\">\n",
       "      <th></th>\n",
       "      <th>Open</th>\n",
       "      <th>High</th>\n",
       "      <th>Low</th>\n",
       "      <th>Close</th>\n",
       "      <th>Volume</th>\n",
       "      <th>Year</th>\n",
       "      <th>Month</th>\n",
       "      <th>Week</th>\n",
       "      <th>Day</th>\n",
       "      <th>DayOfWeek</th>\n",
       "      <th>macd</th>\n",
       "      <th>macdsignal</th>\n",
       "      <th>macdhist</th>\n",
       "      <th>RSI</th>\n",
       "      <th>ADX</th>\n",
       "      <th>ATR</th>\n",
       "      <th>EMA_30</th>\n",
       "    </tr>\n",
       "    <tr>\n",
       "      <th>Date</th>\n",
       "      <th></th>\n",
       "      <th></th>\n",
       "      <th></th>\n",
       "      <th></th>\n",
       "      <th></th>\n",
       "      <th></th>\n",
       "      <th></th>\n",
       "      <th></th>\n",
       "      <th></th>\n",
       "      <th></th>\n",
       "      <th></th>\n",
       "      <th></th>\n",
       "      <th></th>\n",
       "      <th></th>\n",
       "      <th></th>\n",
       "      <th></th>\n",
       "      <th></th>\n",
       "    </tr>\n",
       "  </thead>\n",
       "  <tbody>\n",
       "    <tr>\n",
       "      <th>2017-06-21</th>\n",
       "      <td>149.76</td>\n",
       "      <td>150.71</td>\n",
       "      <td>148.42</td>\n",
       "      <td>155.03</td>\n",
       "      <td>5213315.0</td>\n",
       "      <td>2017</td>\n",
       "      <td>6</td>\n",
       "      <td>25</td>\n",
       "      <td>21</td>\n",
       "      <td>3</td>\n",
       "      <td>2.934275</td>\n",
       "      <td>2.277692</td>\n",
       "      <td>0.656583</td>\n",
       "      <td>39.043779</td>\n",
       "      <td>27.350869</td>\n",
       "      <td>3.938924</td>\n",
       "      <td>155.149197</td>\n",
       "    </tr>\n",
       "    <tr>\n",
       "      <th>2017-06-22</th>\n",
       "      <td>149.80</td>\n",
       "      <td>150.45</td>\n",
       "      <td>145.80</td>\n",
       "      <td>154.89</td>\n",
       "      <td>3908215.0</td>\n",
       "      <td>2017</td>\n",
       "      <td>6</td>\n",
       "      <td>25</td>\n",
       "      <td>22</td>\n",
       "      <td>4</td>\n",
       "      <td>2.648369</td>\n",
       "      <td>2.113546</td>\n",
       "      <td>0.534823</td>\n",
       "      <td>34.717652</td>\n",
       "      <td>27.934862</td>\n",
       "      <td>3.989715</td>\n",
       "      <td>154.569894</td>\n",
       "    </tr>\n",
       "    <tr>\n",
       "      <th>2017-06-23</th>\n",
       "      <td>146.58</td>\n",
       "      <td>148.26</td>\n",
       "      <td>145.58</td>\n",
       "      <td>158.02</td>\n",
       "      <td>4627803.0</td>\n",
       "      <td>2017</td>\n",
       "      <td>6</td>\n",
       "      <td>25</td>\n",
       "      <td>23</td>\n",
       "      <td>5</td>\n",
       "      <td>2.355909</td>\n",
       "      <td>1.979840</td>\n",
       "      <td>0.376069</td>\n",
       "      <td>38.005436</td>\n",
       "      <td>28.519030</td>\n",
       "      <td>3.896164</td>\n",
       "      <td>154.120868</td>\n",
       "    </tr>\n",
       "    <tr>\n",
       "      <th>2017-06-26</th>\n",
       "      <td>146.13</td>\n",
       "      <td>147.27</td>\n",
       "      <td>144.25</td>\n",
       "      <td>157.50</td>\n",
       "      <td>5486482.0</td>\n",
       "      <td>2017</td>\n",
       "      <td>6</td>\n",
       "      <td>26</td>\n",
       "      <td>26</td>\n",
       "      <td>1</td>\n",
       "      <td>2.026756</td>\n",
       "      <td>1.885823</td>\n",
       "      <td>0.140933</td>\n",
       "      <td>36.153528</td>\n",
       "      <td>29.316595</td>\n",
       "      <td>3.857866</td>\n",
       "      <td>153.613070</td>\n",
       "    </tr>\n",
       "    <tr>\n",
       "      <th>2017-06-27</th>\n",
       "      <td>146.65</td>\n",
       "      <td>150.75</td>\n",
       "      <td>146.65</td>\n",
       "      <td>151.03</td>\n",
       "      <td>5561263.0</td>\n",
       "      <td>2017</td>\n",
       "      <td>6</td>\n",
       "      <td>26</td>\n",
       "      <td>27</td>\n",
       "      <td>2</td>\n",
       "      <td>1.849012</td>\n",
       "      <td>1.850590</td>\n",
       "      <td>-0.001578</td>\n",
       "      <td>44.560359</td>\n",
       "      <td>28.699294</td>\n",
       "      <td>3.903733</td>\n",
       "      <td>153.391582</td>\n",
       "    </tr>\n",
       "  </tbody>\n",
       "</table>\n",
       "</div>"
      ],
      "text/plain": [
       "              Open    High     Low   Close     Volume  Year  Month  Week  Day  \\\n",
       "Date                                                                            \n",
       "2017-06-21  149.76  150.71  148.42  155.03  5213315.0  2017      6    25   21   \n",
       "2017-06-22  149.80  150.45  145.80  154.89  3908215.0  2017      6    25   22   \n",
       "2017-06-23  146.58  148.26  145.58  158.02  4627803.0  2017      6    25   23   \n",
       "2017-06-26  146.13  147.27  144.25  157.50  5486482.0  2017      6    26   26   \n",
       "2017-06-27  146.65  150.75  146.65  151.03  5561263.0  2017      6    26   27   \n",
       "\n",
       "            DayOfWeek      macd  macdsignal  macdhist        RSI        ADX  \\\n",
       "Date                                                                          \n",
       "2017-06-21          3  2.934275    2.277692  0.656583  39.043779  27.350869   \n",
       "2017-06-22          4  2.648369    2.113546  0.534823  34.717652  27.934862   \n",
       "2017-06-23          5  2.355909    1.979840  0.376069  38.005436  28.519030   \n",
       "2017-06-26          1  2.026756    1.885823  0.140933  36.153528  29.316595   \n",
       "2017-06-27          2  1.849012    1.850590 -0.001578  44.560359  28.699294   \n",
       "\n",
       "                 ATR      EMA_30  \n",
       "Date                              \n",
       "2017-06-21  3.938924  155.149197  \n",
       "2017-06-22  3.989715  154.569894  \n",
       "2017-06-23  3.896164  154.120868  \n",
       "2017-06-26  3.857866  153.613070  \n",
       "2017-06-27  3.903733  153.391582  "
      ]
     },
     "execution_count": 29,
     "metadata": {},
     "output_type": "execute_result"
    }
   ],
   "source": [
    "joined_valid.head()"
   ]
  },
  {
   "cell_type": "code",
   "execution_count": 30,
   "metadata": {
    "hidden": true
   },
   "outputs": [
    {
     "name": "stderr",
     "output_type": "stream",
     "text": [
      "/usr/local/lib/python3.6/dist-packages/ipykernel_launcher.py:3: SettingWithCopyWarning: \n",
      "A value is trying to be set on a copy of a slice from a DataFrame.\n",
      "Try using .loc[row_indexer,col_indexer] = value instead\n",
      "\n",
      "See the caveats in the documentation: http://pandas.pydata.org/pandas-docs/stable/indexing.html#indexing-view-versus-copy\n",
      "  This is separate from the ipykernel package so we can avoid doing imports until\n"
     ]
    }
   ],
   "source": [
    "#setting up data for graph\n",
    "joined_valid2=joined_valid\n",
    "joined_valid2['Date'] = joined_valid2.index\n",
    "joined_valid2 = joined_valid[['Date','Close']]\n"
   ]
  },
  {
   "cell_type": "code",
   "execution_count": 31,
   "metadata": {
    "hidden": true
   },
   "outputs": [
    {
     "name": "stderr",
     "output_type": "stream",
     "text": [
      "/usr/local/lib/python3.6/dist-packages/sklearn/utils/validation.py:475: DataConversionWarning: Data with input dtype int64 was converted to float64 by StandardScaler.\n",
      "  warnings.warn(msg, DataConversionWarning)\n"
     ]
    }
   ],
   "source": [
    "contin_map_train = contin_preproc(joined_train)\n",
    "contin_map_valid = contin_preproc(joined_valid)"
   ]
  },
  {
   "cell_type": "code",
   "execution_count": 32,
   "metadata": {
    "hidden": true
   },
   "outputs": [],
   "source": [
    "y_train_orig = joined_train.Close\n",
    "y_valid_orig = joined_valid.Close"
   ]
  },
  {
   "cell_type": "code",
   "execution_count": 33,
   "metadata": {
    "hidden": true
   },
   "outputs": [],
   "source": [
    "y_train = y_train_orig\n",
    "y_valid = y_valid_orig"
   ]
  },
  {
   "cell_type": "markdown",
   "metadata": {
    "heading_collapsed": true
   },
   "source": [
    "## XGBOOST"
   ]
  },
  {
   "cell_type": "code",
   "execution_count": 34,
   "metadata": {
    "hidden": true
   },
   "outputs": [],
   "source": [
    "X_train = np.concatenate([contin_map_train], axis=1)"
   ]
  },
  {
   "cell_type": "code",
   "execution_count": 35,
   "metadata": {
    "hidden": true
   },
   "outputs": [],
   "source": [
    "X_valid = np.concatenate([contin_map_valid], axis=1)\n"
   ]
  },
  {
   "cell_type": "code",
   "execution_count": 36,
   "metadata": {
    "hidden": true
   },
   "outputs": [],
   "source": [
    "all_vars = contin_vars"
   ]
  },
  {
   "cell_type": "code",
   "execution_count": 64,
   "metadata": {
    "hidden": true
   },
   "outputs": [],
   "source": [
    "params = {\"objective\": \"reg:linear\",\n",
    "          \"eta\": 0.6,\n",
    "          \"max_depth\": 20,\n",
    "          \"subsample\": 0.6,\n",
    "          \"colsample_bytree\": 0.6,\n",
    "          \"silent\": 1,\n",
    "          \"booster\":\"gblinear\"\n",
    "          }"
   ]
  },
  {
   "cell_type": "code",
   "execution_count": 65,
   "metadata": {
    "hidden": true
   },
   "outputs": [],
   "source": [
    "xdata = xgboost.DMatrix(X_train, y_train, feature_names=all_vars)\n",
    "xdata_val = xgboost.DMatrix(X_valid, y_valid, feature_names=all_vars)\n"
   ]
  },
  {
   "cell_type": "code",
   "execution_count": 66,
   "metadata": {
    "hidden": true
   },
   "outputs": [],
   "source": [
    "gbm = xgb.train(params, xdata)"
   ]
  },
  {
   "cell_type": "code",
   "execution_count": 67,
   "metadata": {
    "hidden": true
   },
   "outputs": [
    {
     "data": {
      "text/plain": [
       "b'[0]\\teval-rmse:7.426252'"
      ]
     },
     "execution_count": 67,
     "metadata": {},
     "output_type": "execute_result"
    }
   ],
   "source": [
    "gbm.eval(xdata_val)\n"
   ]
  },
  {
   "cell_type": "markdown",
   "metadata": {
    "heading_collapsed": true
   },
   "source": [
    "## Visualize Predictions"
   ]
  },
  {
   "cell_type": "code",
   "execution_count": 68,
   "metadata": {
    "hidden": true
   },
   "outputs": [
    {
     "data": {
      "text/html": [
       "<div>\n",
       "<style scoped>\n",
       "    .dataframe tbody tr th:only-of-type {\n",
       "        vertical-align: middle;\n",
       "    }\n",
       "\n",
       "    .dataframe tbody tr th {\n",
       "        vertical-align: top;\n",
       "    }\n",
       "\n",
       "    .dataframe thead th {\n",
       "        text-align: right;\n",
       "    }\n",
       "</style>\n",
       "<table border=\"1\" class=\"dataframe\">\n",
       "  <thead>\n",
       "    <tr style=\"text-align: right;\">\n",
       "      <th></th>\n",
       "      <th>Date</th>\n",
       "      <th>Close</th>\n",
       "    </tr>\n",
       "    <tr>\n",
       "      <th>Date</th>\n",
       "      <th></th>\n",
       "      <th></th>\n",
       "    </tr>\n",
       "  </thead>\n",
       "  <tbody>\n",
       "    <tr>\n",
       "      <th>2017-06-21</th>\n",
       "      <td>2017-06-21</td>\n",
       "      <td>155.03</td>\n",
       "    </tr>\n",
       "    <tr>\n",
       "      <th>2017-06-22</th>\n",
       "      <td>2017-06-22</td>\n",
       "      <td>154.89</td>\n",
       "    </tr>\n",
       "    <tr>\n",
       "      <th>2017-06-23</th>\n",
       "      <td>2017-06-23</td>\n",
       "      <td>158.02</td>\n",
       "    </tr>\n",
       "    <tr>\n",
       "      <th>2017-06-26</th>\n",
       "      <td>2017-06-26</td>\n",
       "      <td>157.50</td>\n",
       "    </tr>\n",
       "    <tr>\n",
       "      <th>2017-06-27</th>\n",
       "      <td>2017-06-27</td>\n",
       "      <td>151.03</td>\n",
       "    </tr>\n",
       "  </tbody>\n",
       "</table>\n",
       "</div>"
      ],
      "text/plain": [
       "                 Date   Close\n",
       "Date                         \n",
       "2017-06-21 2017-06-21  155.03\n",
       "2017-06-22 2017-06-22  154.89\n",
       "2017-06-23 2017-06-23  158.02\n",
       "2017-06-26 2017-06-26  157.50\n",
       "2017-06-27 2017-06-27  151.03"
      ]
     },
     "execution_count": 68,
     "metadata": {},
     "output_type": "execute_result"
    }
   ],
   "source": [
    "joined_valid2.head()"
   ]
  },
  {
   "cell_type": "code",
   "execution_count": 69,
   "metadata": {
    "hidden": true
   },
   "outputs": [],
   "source": [
    "test_probs = gbm.predict(xdata_val)"
   ]
  },
  {
   "cell_type": "code",
   "execution_count": 70,
   "metadata": {
    "hidden": true,
    "scrolled": true
   },
   "outputs": [],
   "source": [
    "submission = pd.DataFrame({\"Date\": joined_valid2[\"Date\"], \"Prediction\": test_probs})\n"
   ]
  },
  {
   "cell_type": "code",
   "execution_count": 71,
   "metadata": {
    "hidden": true
   },
   "outputs": [],
   "source": [
    "#joined_valid2.drop('Date',axis=1,inplace=True)\n",
    "#submission.drop('Date',axis=1,inplace=True)"
   ]
  },
  {
   "cell_type": "code",
   "execution_count": 72,
   "metadata": {
    "hidden": true
   },
   "outputs": [],
   "source": [
    "def join_df(left, right, left_on, right_on=None):\n",
    "    if right_on is None: right_on = left_on\n",
    "    return left.merge(right, how='left', left_on=left_on, right_on=right_on, \n",
    "                      suffixes=(\"\", \"_y\"))"
   ]
  },
  {
   "cell_type": "code",
   "execution_count": 73,
   "metadata": {
    "hidden": true
   },
   "outputs": [
    {
     "data": {
      "text/plain": [
       "0"
      ]
     },
     "execution_count": 73,
     "metadata": {},
     "output_type": "execute_result"
    }
   ],
   "source": [
    "joined3=join_df(joined_valid2,submission,\"Date\")\n",
    "len(joined3[joined3.Prediction.isnull()])\n"
   ]
  },
  {
   "cell_type": "code",
   "execution_count": 74,
   "metadata": {
    "hidden": true
   },
   "outputs": [
    {
     "data": {
      "text/html": [
       "<div>\n",
       "<style scoped>\n",
       "    .dataframe tbody tr th:only-of-type {\n",
       "        vertical-align: middle;\n",
       "    }\n",
       "\n",
       "    .dataframe tbody tr th {\n",
       "        vertical-align: top;\n",
       "    }\n",
       "\n",
       "    .dataframe thead th {\n",
       "        text-align: right;\n",
       "    }\n",
       "</style>\n",
       "<table border=\"1\" class=\"dataframe\">\n",
       "  <thead>\n",
       "    <tr style=\"text-align: right;\">\n",
       "      <th></th>\n",
       "      <th>Close</th>\n",
       "      <th>Prediction</th>\n",
       "    </tr>\n",
       "    <tr>\n",
       "      <th>Date</th>\n",
       "      <th></th>\n",
       "      <th></th>\n",
       "    </tr>\n",
       "  </thead>\n",
       "  <tbody>\n",
       "    <tr>\n",
       "      <th>2017-06-21</th>\n",
       "      <td>155.03</td>\n",
       "      <td>152.586975</td>\n",
       "    </tr>\n",
       "    <tr>\n",
       "      <th>2017-06-22</th>\n",
       "      <td>154.89</td>\n",
       "      <td>153.450424</td>\n",
       "    </tr>\n",
       "    <tr>\n",
       "      <th>2017-06-23</th>\n",
       "      <td>158.02</td>\n",
       "      <td>150.374527</td>\n",
       "    </tr>\n",
       "    <tr>\n",
       "      <th>2017-06-26</th>\n",
       "      <td>157.50</td>\n",
       "      <td>149.241684</td>\n",
       "    </tr>\n",
       "    <tr>\n",
       "      <th>2017-06-27</th>\n",
       "      <td>151.03</td>\n",
       "      <td>148.880630</td>\n",
       "    </tr>\n",
       "  </tbody>\n",
       "</table>\n",
       "</div>"
      ],
      "text/plain": [
       "             Close  Prediction\n",
       "Date                          \n",
       "2017-06-21  155.03  152.586975\n",
       "2017-06-22  154.89  153.450424\n",
       "2017-06-23  158.02  150.374527\n",
       "2017-06-26  157.50  149.241684\n",
       "2017-06-27  151.03  148.880630"
      ]
     },
     "execution_count": 74,
     "metadata": {},
     "output_type": "execute_result"
    }
   ],
   "source": [
    "joined3 = joined3.set_index(\"Date\")\n",
    "joined3.head()"
   ]
  },
  {
   "cell_type": "code",
   "execution_count": 75,
   "metadata": {
    "hidden": true
   },
   "outputs": [
    {
     "data": {
      "image/png": "[encoded data removed]",
      "text/plain": [
       "<matplotlib.figure.Figure at 0x7fba59746128>"
      ]
     },
     "metadata": {},
     "output_type": "display_data"
    }
   ],
   "source": [
    "import matplotlib.pyplot as plt2\n",
    "\n",
    "plt2.plot(joined3['Prediction'], color='red', label='Prediction')\n",
    "plt2.plot(joined3['Close'], color='blue', label='Actual')\n",
    "plt2.legend(loc='upper left')\n",
    "plt2.show()"
   ]
  }
 ],
 "metadata": {
  "kernelspec": {
   "display_name": "Python 3",
   "language": "python",
   "name": "python3"
  },
  "language_info": {
   "codemirror_mode": {
    "name": "ipython",
    "version": 3
   },
   "file_extension": ".py",
   "mimetype": "text/x-python",
   "name": "python",
   "nbconvert_exporter": "python",
   "pygments_lexer": "ipython3",
   "version": "3.6.3"
  }
 },
 "nbformat": 4,
 "nbformat_minor": 2
}
